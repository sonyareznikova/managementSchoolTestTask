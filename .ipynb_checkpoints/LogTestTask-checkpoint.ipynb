{
 "cells": [
  {
   "cell_type": "code",
   "execution_count": 428,
   "metadata": {
    "collapsed": true
   },
   "outputs": [],
   "source": [
    "import pandas as pd\n",
    "import numpy as np"
   ]
  },
  {
   "cell_type": "code",
   "execution_count": 7,
   "metadata": {
    "collapsed": true
   },
   "outputs": [],
   "source": [
    "logs = pd.read_csv(\"Log\", delimiter=\"\\t\")"
   ]
  },
  {
   "cell_type": "code",
   "execution_count": 24,
   "metadata": {},
   "outputs": [
    {
     "data": {
      "text/html": [
       "<div>\n",
       "<style>\n",
       "    .dataframe thead tr:only-child th {\n",
       "        text-align: right;\n",
       "    }\n",
       "\n",
       "    .dataframe thead th {\n",
       "        text-align: left;\n",
       "    }\n",
       "\n",
       "    .dataframe tbody tr th {\n",
       "        vertical-align: top;\n",
       "    }\n",
       "</style>\n",
       "<table border=\"1\" class=\"dataframe\">\n",
       "  <thead>\n",
       "    <tr style=\"text-align: right;\">\n",
       "      <th></th>\n",
       "      <th>timestamp</th>\n",
       "      <th>datetime</th>\n",
       "      <th>device</th>\n",
       "      <th>numdoc</th>\n",
       "      <th>region</th>\n",
       "      <th>request</th>\n",
       "      <th>urls</th>\n",
       "    </tr>\n",
       "  </thead>\n",
       "  <tbody>\n",
       "    <tr>\n",
       "      <th>0</th>\n",
       "      <td>1520974800</td>\n",
       "      <td>2018-03-14 00:00</td>\n",
       "      <td>desktop</td>\n",
       "      <td>317731505</td>\n",
       "      <td>6</td>\n",
       "      <td>https://yandex.ru/search/?text=порно видео сек...</td>\n",
       "      <td>http://porno-sex-video.com/eroticheskie-filmy-...</td>\n",
       "    </tr>\n",
       "    <tr>\n",
       "      <th>1</th>\n",
       "      <td>1520974800</td>\n",
       "      <td>2018-03-14 00:00</td>\n",
       "      <td>desktop</td>\n",
       "      <td>277053268</td>\n",
       "      <td>191</td>\n",
       "      <td>https://yandex.ru/search/?text=sad story скача...</td>\n",
       "      <td>http://mp3party.net/music/8507899;http://muz-c...</td>\n",
       "    </tr>\n",
       "    <tr>\n",
       "      <th>2</th>\n",
       "      <td>1520974800</td>\n",
       "      <td>2018-03-14 00:00</td>\n",
       "      <td>touch</td>\n",
       "      <td>19987730</td>\n",
       "      <td>2</td>\n",
       "      <td>https://yandex.ru/search/?text=ольгино баня&amp;fl...</td>\n",
       "      <td>http://www.bani.spb.ru/olgino.html;https://sau...</td>\n",
       "    </tr>\n",
       "    <tr>\n",
       "      <th>3</th>\n",
       "      <td>1520974800</td>\n",
       "      <td>2018-03-14 00:00</td>\n",
       "      <td>touch</td>\n",
       "      <td>196215754</td>\n",
       "      <td>26955</td>\n",
       "      <td>https://yandex.ru/search/?text=фирменный магаз...</td>\n",
       "      <td>http://www.marko.by/actions/;https://marko.vit...</td>\n",
       "    </tr>\n",
       "    <tr>\n",
       "      <th>4</th>\n",
       "      <td>1520974800</td>\n",
       "      <td>2018-03-14 00:00</td>\n",
       "      <td>desktop</td>\n",
       "      <td>3909882795</td>\n",
       "      <td>101704</td>\n",
       "      <td>https://yandex.ru/search/?text=порно&amp;rl=313</td>\n",
       "      <td>http://porno365.xxx/;https://prostoporno.sex/c...</td>\n",
       "    </tr>\n",
       "  </tbody>\n",
       "</table>\n",
       "</div>"
      ],
      "text/plain": [
       "    timestamp          datetime   device     numdoc   region  \\\n",
       "0  1520974800  2018-03-14 00:00  desktop   317731505       6   \n",
       "1  1520974800  2018-03-14 00:00  desktop   277053268     191   \n",
       "2  1520974800  2018-03-14 00:00    touch    19987730       2   \n",
       "3  1520974800  2018-03-14 00:00    touch   196215754   26955   \n",
       "4  1520974800  2018-03-14 00:00  desktop  3909882795  101704   \n",
       "\n",
       "                                             request  \\\n",
       "0  https://yandex.ru/search/?text=порно видео сек...   \n",
       "1  https://yandex.ru/search/?text=sad story скача...   \n",
       "2  https://yandex.ru/search/?text=ольгино баня&fl...   \n",
       "3  https://yandex.ru/search/?text=фирменный магаз...   \n",
       "4        https://yandex.ru/search/?text=порно&rl=313   \n",
       "\n",
       "                                                urls  \n",
       "0  http://porno-sex-video.com/eroticheskie-filmy-...  \n",
       "1  http://mp3party.net/music/8507899;http://muz-c...  \n",
       "2  http://www.bani.spb.ru/olgino.html;https://sau...  \n",
       "3  http://www.marko.by/actions/;https://marko.vit...  \n",
       "4  http://porno365.xxx/;https://prostoporno.sex/c...  "
      ]
     },
     "execution_count": 24,
     "metadata": {},
     "output_type": "execute_result"
    }
   ],
   "source": [
    "logs.head()"
   ]
  },
  {
   "cell_type": "markdown",
   "metadata": {},
   "source": [
    "Выберите запросы, связанные с просмотром телевидения. \n",
    "Оцените долю этих запросов в общем потоке. \n",
    "Предложите свою классификацию запросов, связанных с просмотром телевидения: выделите основные группы запросов и оцените долю каждой группы в общем объеме этих запросов."
   ]
  },
  {
   "cell_type": "code",
   "execution_count": 74,
   "metadata": {
    "collapsed": true
   },
   "outputs": [],
   "source": [
    "def separate_request_and_metadata(raw_request):\n",
    "    request = \"\"\n",
    "    metadata = \"\"\n",
    "    final_index = len(raw_request)\n",
    "    if (\"&\" in raw_request):\n",
    "        final_index = raw_request.index(\"&\")\n",
    "        metadata = raw_request[final_index:]\n",
    "    request = raw_request[31:final_index]\n",
    "    return (request, metadata)"
   ]
  },
  {
   "cell_type": "code",
   "execution_count": 284,
   "metadata": {
    "collapsed": true
   },
   "outputs": [],
   "source": [
    "indices = []"
   ]
  },
  {
   "cell_type": "code",
   "execution_count": 75,
   "metadata": {
    "collapsed": true
   },
   "outputs": [],
   "source": [
    "requests = [separate_request_and_metadata(req) for req in logs[\"request\"]]"
   ]
  },
  {
   "cell_type": "code",
   "execution_count": 285,
   "metadata": {
    "collapsed": true
   },
   "outputs": [],
   "source": [
    "# metrics\n",
    "c_channel = 0\n",
    "c_tv_prog1 = 0\n",
    "c_tv_prog2 = 0\n",
    "c_live = 0\n",
    "c_channel_1 = 0\n",
    "c_tv_prog3 = 0\n",
    "c_tv_online = 0\n",
    "c_tnt = 0\n",
    "c_sts = 0\n",
    "c_ros_1 = 0\n",
    "c_ntv = 0\n",
    "c_dom_2 = 0\n",
    "c_pust_govor = 0\n",
    "c_kvn = 0\n",
    "\n",
    "for i in range(len(requests)):\n",
    "    if (\"канале\" in requests[i][0]  and \"моч\" not in requests[i][0] and \"вод\" not in requests[i][0] and \"youtube\" not in requests[i][0] and \"ютуб\" not in requests[i][0]) or \"телеканал\" in requests[i][0]:\n",
    "        c_channel += 1\n",
    "        indices.append(i)\n",
    "    elif \"телепрограмма\" in requests[i][0] or \"телепрограмме\" in requests[i][0] or \"телепрограммы\" in requests[i][0] or \"телепрограмму\" in requests[i][0] or \"телепро\" in requests[i][0] or \"телепередача\" in requests[i][0]:\n",
    "        c_tv_prog1 += 1\n",
    "        indices.append(i)\n",
    "    elif \"программа передач\" in requests[i][0] or (\"канал\" in requests[i][0] and \"программа\" in requests[i][0]):\n",
    "        c_tv_prog2 += 1\n",
    "        indices.append(i)\n",
    "    elif \"прямой эфир\" in requests[i][0] or \"прямом эфире\" in requests[i][0] or \"прямая трансляция\" in requests[i][0] or \"трансляция\" in requests[i][0]:\n",
    "        c_live += 1\n",
    "        indices.append(i)\n",
    "    elif (\"1\" in requests[i][0] and \"канал\" in requests[i][0]) or (\"первый\" in requests[i][0] and \"канал\" in requests[i][0]):\n",
    "        c_channel_1 += 1\n",
    "        indices.append(i)\n",
    "    elif (\"тв\" in requests[i][0] and \"программа\" in requests[i][0]):\n",
    "        c_tv_prog3 += 1\n",
    "        indices.append(i)\n",
    "    elif (\"телевидение\" in requests[i][0] and \"онлайн\" in requests[i][0]):\n",
    "        c_tv_online += 1\n",
    "        indices.append(i)\n",
    "    elif \" тнт \" in requests[i][0] or \" тнт\" in requests[i][0] or \"тнт \" in requests[i][0]:\n",
    "        c_tnt += 1\n",
    "        indices.append(i)\n",
    "    elif \"стс \" in requests[i][0] or \" стс\" in requests[i][0] or \" стс \" in requests[i][0]:\n",
    "        c_sts += 1\n",
    "        indices.append(i)\n",
    "    elif \"россия 1\" in requests[i][0]:\n",
    "        c_ros_1 += 1\n",
    "        indices.append(i)\n",
    "    elif \"нтв \" in requests[i][0] or \" нтв\" in requests[i][0] or \" нтв \" in requests[i][0]: \n",
    "        c_ntv += 1\n",
    "        indices.append(i)\n",
    "    elif \"дом 2\" in requests[i][0]:\n",
    "        c_dom_2 += 1\n",
    "        indices.append(i)\n",
    "    elif \"пусть говорят\" in requests[i][0]:\n",
    "        c_pust_govor += 1\n",
    "        indices.append(i)\n",
    "    elif \" квн \" in requests[i][0] or \"квн \" in requests[i][0] or \" квн\" in requests[i][0]:\n",
    "        c_kvn += 1\n",
    "        indices.append(i)\n",
    "        "
   ]
  },
  {
   "cell_type": "code",
   "execution_count": 279,
   "metadata": {},
   "outputs": [
    {
     "name": "stdout",
     "output_type": "stream",
     "text": [
      "Количество запросов, содержащих (на)'канале': 483\n",
      "Количество запросов, содержащих 'телепрограмма' в каком-либо падеже: 626\n",
      "Количество запросов, содержащих 'программа передач' или 'канал+программа': 748\n",
      "Количество запросов, содержащих 'прямой эфир'/'прямом эфире'/'прямая трансляция': 2281\n",
      "Количество запросов, содержащих 'тв программа': 302\n",
      "Количество запросов, содержащих 'телевидение онлайн': 30\n",
      "\n",
      "первый канал: 670\n",
      "тнт: 652\n",
      "стс: 184\n",
      "россия 1: 226\n",
      "нтв: 248\n",
      "\n",
      "КВН: 184\n",
      "Пусть говорят: 163\n",
      "Дом 2: 1416\n",
      "\n",
      "SUM: 8213\n"
     ]
    }
   ],
   "source": [
    "print(\"Количество запросов, содержащих (на)'канале': \" + str(c_channel))\n",
    "print(\"Количество запросов, содержащих 'телепрограмма' в каком-либо падеже: \" + str(c_tv_prog1))\n",
    "print(\"Количество запросов, содержащих 'программа передач' или 'канал+программа': \" + str(c_tv_prog2))\n",
    "print(\"Количество запросов, содержащих 'прямой эфир'/'прямом эфире'/'прямая трансляция': \" + str(c_live))\n",
    "print(\"Количество запросов, содержащих 'тв программа': \" + str(c_tv_prog3))\n",
    "print(\"Количество запросов, содержащих 'телевидение онлайн': \" + str(c_tv_online))\n",
    "print()\n",
    "print(\"первый канал: \" + str(c_channel_1))\n",
    "print(\"тнт: \" + str(c_tnt))\n",
    "print(\"стс: \" + str(c_sts))\n",
    "print(\"россия 1: \" + str(c_ros_1)) \n",
    "print(\"нтв: \" + str(c_ntv))\n",
    "print()\n",
    "print(\"КВН: \" + str(c_kvn) + \"\\nПусть говорят: \" + str(c_pust_govor) + \"\\nДом 2: \" + str(c_dom_2))\n",
    "\n",
    "print(\"\\nSUM: \" + str(c_channel + c_tv_prog1 + c_tv_prog2 + c_tv_prog3 + c_live + c_tv_online + c_channel_1 + c_tnt + c_sts + c_ros_1 + c_ntv + c_pust_govor + c_dom_2 + c_kvn))\n",
    "\n"
   ]
  },
  {
   "cell_type": "code",
   "execution_count": 300,
   "metadata": {
    "collapsed": true
   },
   "outputs": [],
   "source": [
    "# working with urls\n",
    "urls = np.array([str(log) for log in logs[\"urls\"]])"
   ]
  },
  {
   "cell_type": "code",
   "execution_count": 429,
   "metadata": {},
   "outputs": [],
   "source": [
    "# to compare indices further on\n",
    "url_indices = []\n",
    "# to count the number of occurences\n",
    "count_tvs = 0\n",
    "for i in range(len(urls)):\n",
    "    if (\".tv\" in urls[i] or \"tv.\" in urls[i]) and (\"twitch\" not in urls[i]) and (\"porn\" not in urls[i]) and (\"sex\" not in urls[i]) and (\"hentai\" not in urls[i]) and (\"seria\" not in urls[i]) and (\"mature\" not in urls[i]) and (\"adult\" not in urls[i]) and (\"kino\" not in urls[i]) and (\"cinema\" not in urls[i]) and (\"film\" not in urls[i]) and (\"hdtv\" not in urls[i]):\n",
    "        count_tvs += 1\n",
    "        url_indices.append(i)\n",
    "        #print(urls[i])"
   ]
  },
  {
   "cell_type": "code",
   "execution_count": 350,
   "metadata": {},
   "outputs": [
    {
     "name": "stdout",
     "output_type": "stream",
     "text": [
      "Количество запросов в ссылками, содержащими tv: 21438\n"
     ]
    }
   ],
   "source": [
    "print(\"Количество запросов в ссылками, содержащими tv: \" + str(count_tvs))"
   ]
  },
  {
   "cell_type": "code",
   "execution_count": 420,
   "metadata": {},
   "outputs": [
    {
     "name": "stdout",
     "output_type": "stream",
     "text": [
      "Число всех запросов, связанных с просмотром телевидения: 24997\n",
      "Доля запросов о тв в общем потоке: 1.875%\n"
     ]
    }
   ],
   "source": [
    "# summing up all the requests' indices and making them a set\n",
    "all_tv_requests_ind = len(set(indices+url_indices))\n",
    "print(\"Число всех запросов, связанных с просмотром телевидения: \" + str(all_tv_requests_ind))\n",
    "print(\"Доля запросов о тв в общем потоке: \" + str(round((all_tv_requests_ind/len(requests))*100,3)) + \"%\")"
   ]
  },
  {
   "cell_type": "code",
   "execution_count": 352,
   "metadata": {
    "collapsed": true
   },
   "outputs": [],
   "source": [
    "all_tv_requests = [requests[ind] for ind in set(indices+url_indices)]\n",
    "all_tv_urls = [urls[ind] for ind in set(indices+url_indices)]"
   ]
  },
  {
   "cell_type": "code",
   "execution_count": 386,
   "metadata": {},
   "outputs": [
    {
     "name": "stdout",
     "output_type": "stream",
     "text": [
      "1420\n"
     ]
    }
   ],
   "source": [
    "c_info = 0\n",
    "for url in all_tv_urls:\n",
    "    if \"wiki\" in url or \"instagram\" in url:\n",
    "        c_info += 1\n",
    "print(c_info)"
   ]
  },
  {
   "cell_type": "code",
   "execution_count": 376,
   "metadata": {},
   "outputs": [
    {
     "name": "stdout",
     "output_type": "stream",
     "text": [
      "1758\n"
     ]
    }
   ],
   "source": [
    "c_url_program = 0\n",
    "for url in all_tv_urls:\n",
    "    if \"tv.yandex\" in url or \"tv.mail\" in url:\n",
    "        c_url_program += 1\n",
    "print(c_url_program)"
   ]
  },
  {
   "cell_type": "code",
   "execution_count": 410,
   "metadata": {},
   "outputs": [
    {
     "name": "stdout",
     "output_type": "stream",
     "text": [
      "129\n"
     ]
    }
   ],
   "source": [
    "c_golos = 0\n",
    "for request in all_tv_requests:\n",
    "    if \"голос\" in request[0]:\n",
    "        c_golos += 1\n",
    "print(c_golos)"
   ]
  },
  {
   "cell_type": "code",
   "execution_count": 372,
   "metadata": {},
   "outputs": [
    {
     "name": "stdout",
     "output_type": "stream",
     "text": [
      "1487\n",
      "2565\n",
      "2199\n"
     ]
    }
   ],
   "source": [
    "c = 0\n",
    "inds = []\n",
    "for request in all_tv_requests:\n",
    "    if \"спорт\" in request[0] or \"матч\" in request[0] or \"футбол\" in request[0] or \"Севилья\" in request[0] or \"хокк\" in request[0]:\n",
    "        c+=1\n",
    "        inds.append(all_tv_requests.index(request))\n",
    "        #print(request)\n",
    "print(c)\n",
    "c1 = 0\n",
    "for url in all_tv_urls:\n",
    "    if \"match\" in url or \"sport\" in url or \"football\" in url or \"hockey\" in url:\n",
    "        #print(url)\n",
    "        c1 += 1\n",
    "        inds.append(all_tv_urls.index(url))\n",
    "print(c1)\n",
    "print(len(set(inds)))"
   ]
  },
  {
   "cell_type": "code",
   "execution_count": 412,
   "metadata": {},
   "outputs": [
    {
     "name": "stdout",
     "output_type": "stream",
     "text": [
      "995\n"
     ]
    }
   ],
   "source": [
    "c_tnt = 0\n",
    "for url in all_tv_urls:\n",
    "    if (\"russia.\" in url) and \"1tv\" not in url and \"match\" not in url:\n",
    "        c_tnt += 1\n",
    "print(c_tnt)\n",
    "# with urls\n",
    "all_channel_counts = 931+1966+367+707+995\n",
    "c_dom_2 = 1772\n",
    "remaining = len(all_tv_requests) - (c_url_program + all_channel_counts + len(set(inds)) + c_info)"
   ]
  },
  {
   "cell_type": "code",
   "execution_count": 413,
   "metadata": {},
   "outputs": [
    {
     "name": "stdout",
     "output_type": "stream",
     "text": [
      "Хочу узнать, что идет по телевизору: 1758\n",
      "Хочу смотреть онлайн какой-нибудь канал или передачу на нем: 4966\n",
      "Хочу смотреть спорт: 2199\n",
      "Хочу знать информацию о какое-то передаче или актере/актрисе: 1420\n",
      "Хочу смотреть определенную передачу онлайн (по остаточному принципу): 14654\n",
      "Из последней группы - дом2: 1772\n"
     ]
    }
   ],
   "source": [
    "print(\"Хочу узнать, что идет по телевизору: \" + str(c_url_program))\n",
    "print(\"Хочу смотреть онлайн какой-нибудь канал или передачу на нем: \" + str(all_channel_counts))\n",
    "print(\"Хочу смотреть спорт: \" + str(len(set(inds))))\n",
    "print(\"Хочу знать информацию о какое-то передаче или актере/актрисе: \" + str(c_info))\n",
    "print(\"Хочу смотреть определенную передачу онлайн (по остаточному принципу): \" + str(remaining))\n",
    "print(\"Из последней группы - дом2: \" + str(c_dom_2))"
   ]
  },
  {
   "cell_type": "code",
   "execution_count": 426,
   "metadata": {},
   "outputs": [
    {
     "data": {
      "image/png": "[encoded data removed]",
      "text/plain": [
       "<matplotlib.figure.Figure at 0x59008f0f0>"
      ]
     },
     "metadata": {},
     "output_type": "display_data"
    }
   ],
   "source": [
    "import matplotlib.pyplot as plt\n",
    " \n",
    "# Data to plot\n",
    "labels = 'Другое', 'Телевидение'\n",
    "sizes = [len(requests), len(all_tv_requests)]\n",
    "colors = ['gold', 'lightcoral']\n",
    "explode = (0, 0.2)  # explode 1st slice\n",
    " \n",
    "# Plot\n",
    "plt.pie(sizes, explode=explode, labels=labels, colors=colors,\n",
    "        autopct='%1.1f%%', shadow=True, startangle=140)\n",
    "plt.savefig(\"out_of_all.png\")\n",
    "plt.axis('equal')\n",
    "plt.show()\n"
   ]
  },
  {
   "cell_type": "code",
   "execution_count": 427,
   "metadata": {},
   "outputs": [
    {
     "data": {
      "image/png": "[encoded data removed]",
      "text/plain": [
       "<matplotlib.figure.Figure at 0x58f21ee48>"
      ]
     },
     "metadata": {},
     "output_type": "display_data"
    }
   ],
   "source": [
    "import matplotlib.pyplot as plt\n",
    " \n",
    "# Data to plot\n",
    "labels = 'Телепрограмма', 'Канал', 'Спорт', 'Информация', 'Передача'\n",
    "sizes = [c_url_program, all_channel_counts, len(set(inds)), c_info, remaining]\n",
    "colors = ['gold', 'yellowgreen', 'lightcoral', 'lightskyblue', 'blueviolet']\n",
    "explode = (0, 0, 0, 0, 0.1)  # explode 1st slice\n",
    " \n",
    "# Plot\n",
    "plt.pie(sizes, explode=explode, labels=labels, colors=colors,\n",
    "        autopct='%1.1f%%', shadow=True, startangle=140)\n",
    "plt.savefig(\"classification.png\")\n",
    "plt.axis('equal')\n",
    "plt.show()\n"
   ]
  }
 ],
 "metadata": {
  "kernelspec": {
   "display_name": "Python 3",
   "language": "python",
   "name": "python3"
  },
  "language_info": {
   "codemirror_mode": {
    "name": "ipython",
    "version": 3
   },
   "file_extension": ".py",
   "mimetype": "text/x-python",
   "name": "python",
   "nbconvert_exporter": "python",
   "pygments_lexer": "ipython3",
   "version": "3.6.1"
  }
 },
 "nbformat": 4,
 "nbformat_minor": 2
}
